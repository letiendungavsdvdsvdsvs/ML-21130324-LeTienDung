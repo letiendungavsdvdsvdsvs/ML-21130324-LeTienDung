{
  "nbformat": 4,
  "nbformat_minor": 0,
  "metadata": {
    "colab": {
      "provenance": [],
      "toc_visible": true
    },
    "kernelspec": {
      "name": "python3",
      "display_name": "Python 3"
    },
    "language_info": {
      "name": "python"
    }
  },
  "cells": [
    {
      "cell_type": "code",
      "source": [
        "# Input an integer number n\n",
        "n = int(input(\"Enter n: \"))\n",
        "\n",
        "# Input n integer numbers and append them into a list L\n",
        "L = []\n",
        "for i in range(n):\n",
        "    num = int(input(\"Enter number {}: \".format(i + 1)))\n",
        "    L.append(num)\n",
        "\n",
        "# Find the max and min elements in L\n",
        "max_num = max(L)\n",
        "min_num = min(L)\n",
        "print(\"Maximum element:\", max_num)\n",
        "print(\"Minimum element:\", min_num)\n",
        "\n",
        "# Compute the sum of elements in L\n",
        "sum_nums = sum(L)\n",
        "print(\"Sum of elements:\", sum_nums)\n",
        "\n",
        "# Sort the list L in ascending order\n",
        "L.sort()\n",
        "print(\"Sorted list:\", L)\n",
        "\n",
        "# Count the number of positive and negative numbers in L\n",
        "positive_count = sum(1 for num in L if num > 0)\n",
        "negative_count = sum(1 for num in L if num < 0)\n",
        "print(\"Number of positive numbers:\", positive_count)\n",
        "print(\"Number of negative numbers:\", negative_count)"
      ],
      "metadata": {
        "id": "sZzbZJuPtq7V"
      },
      "execution_count": null,
      "outputs": []
    },
    {
      "cell_type": "code",
      "source": [
        "def compute_S(n):\n",
        "    if n == 1:\n",
        "        return 1\n",
        "    else:\n",
        "        return compute_S(n-1) + factorial(n)\n",
        "\n",
        "def factorial(n):\n",
        "    if n == 0:\n",
        "        return 1\n",
        "    else:\n",
        "        return n * factorial(n-1)\n",
        "\n",
        "# Test the function\n",
        "n = int(input(\"Enter a positive integer: \"))\n",
        "result = compute_S(n)\n",
        "print(\"S({}) = {}\".format(n, result))"
      ],
      "metadata": {
        "id": "8po6Wy-Tu2xW"
      },
      "execution_count": null,
      "outputs": []
    },
    {
      "cell_type": "code",
      "source": [
        "from datetime import datetime\n",
        "\n",
        "class Account:\n",
        "    def __init__(self, name, email, country, friends, posts):\n",
        "        self.name = name\n",
        "        self.email = email\n",
        "        self.country = country\n",
        "        self.friends = friends\n",
        "        self.posts = posts\n",
        "\n",
        "class Post:\n",
        "    def __init__(self, content, subject, likes):\n",
        "        self.content = content\n",
        "        self.subject = subject\n",
        "        self.likes = likes\n",
        "class VerifiedAccount(Account):\n",
        "    def __init__(self, name, email, country, friends, posts, verified_date):\n",
        "        super().__init__(name, email, country, friends, posts)\n",
        "        self.verified_date = verified_date\n",
        "class NormalAccount(Account):\n",
        "    def __init__(self, name, email, country, friends, posts):\n",
        "        super().__init__(name, email, country, friends, posts)\n",
        "\n",
        "class AccountManager:\n",
        "    def __init__(self, accounts):\n",
        "        self.accounts = accounts"
      ],
      "metadata": {
        "id": "mJIJY_yI31Tf"
      },
      "execution_count": null,
      "outputs": []
    },
    {
      "cell_type": "code",
      "source": [
        "import numpy as np\n",
        "\n",
        "# Create an array with values ranging from 10 to 25\n",
        "arr = np.arange(10, 26)\n",
        "print(\"Original array:\", arr)\n",
        "\n",
        "# Reverse the array\n",
        "reversed_arr = np.flip(arr)\n",
        "print(\"Reversed array:\", reversed_arr)"
      ],
      "metadata": {
        "id": "UzGm1JQNvfGW"
      },
      "execution_count": null,
      "outputs": []
    },
    {
      "cell_type": "code",
      "source": [
        "\n",
        "# Repeat a given array\n",
        "original_array = np.array([1, 2, 3, 4])\n",
        "print(\"Original array:\", original_array)\n",
        "\n",
        "repeated_array_2_times = np.tile(original_array, 2)\n",
        "repeated_array_3_times = np.tile(original_array, 3)\n",
        "\n",
        "print(\"Repeating 2 times:\", repeated_array_2_times)\n",
        "print(\"Repeating 3 times:\", repeated_array_3_times)\n"
      ],
      "metadata": {
        "id": "OMY0GX18yUQX"
      },
      "execution_count": null,
      "outputs": []
    },
    {
      "cell_type": "code",
      "source": [
        "nums = np.array([[0.42, 0.48, 0.32],\n",
        "                [0.74, 0.58, 0.38],\n",
        "                [0.51, 0.34, 0.15 ]])\n",
        "print(\"Original array:\")\n",
        "print(nums)\n",
        "n = 0.5\n",
        "r = 0.5\n",
        "print(\"Replace all elements of the original array with .5 for values which are greater than .5\")\n",
        "print(np.where(nums > n, r, nums))"
      ],
      "metadata": {
        "id": "hzSFxUT12Eru"
      },
      "execution_count": null,
      "outputs": []
    }
  ]
}